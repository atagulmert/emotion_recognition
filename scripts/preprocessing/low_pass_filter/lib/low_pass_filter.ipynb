{
 "cells": [
  {
   "cell_type": "markdown",
   "metadata": {},
   "source": [
    "<h1>Low Pass Filter</h1>\n",
    "\n",
    "Applies low pass filter to a stream of data. In this case gsr data.\n",
    "<br>Used formula : filteredValue = oldValue + (newValue - oldValue) / (smoothing / timeSinceLastUpdate)"
   ]
  },
  {
   "cell_type": "code",
   "execution_count": 1,
   "metadata": {},
   "outputs": [],
   "source": [
    "import numpy as np"
   ]
  },
  {
   "cell_type": "code",
   "execution_count": 5,
   "metadata": {},
   "outputs": [],
   "source": [
    "# values : a list of data\n",
    "# smoothing: power of the filter, 1 = no change bigger the smoother\n",
    "def low_pass_filter(values,smoothing):\n",
    "    value = values[0]\n",
    "    for index,item in enumerate(values):\n",
    "        currentValue = values[index]\n",
    "        value += (currentValue-value) / smoothing\n",
    "        values[index] = value"
   ]
  }
 ],
 "metadata": {
  "kernelspec": {
   "display_name": "Python 3",
   "language": "python",
   "name": "python3"
  },
  "language_info": {
   "codemirror_mode": {
    "name": "ipython",
    "version": 3
   },
   "file_extension": ".py",
   "mimetype": "text/x-python",
   "name": "python",
   "nbconvert_exporter": "python",
   "pygments_lexer": "ipython3",
   "version": "3.7.1"
  }
 },
 "nbformat": 4,
 "nbformat_minor": 2
}
