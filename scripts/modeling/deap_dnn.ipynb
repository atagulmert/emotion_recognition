{
 "cells": [
  {
   "cell_type": "code",
   "execution_count": null,
   "metadata": {},
   "outputs": [],
   "source": [
    "import pickle\n",
    "import pandas as pd\n",
    "import numpy as np\n",
    "from scipy.stats import skew,kurtosis\n",
    "import gc\n",
    "from keras.models import Sequential\n",
    "from keras.layers import Dense, Dropout, Activation\n",
    "import keras\n",
    "from keras.layers import Input, Dense, Conv1D, MaxPooling1D, GlobalAveragePooling1D, Reshape, Flatten, BatchNormalization, LSTM\n",
    "from keras.optimizers import SGD\n",
    "import itertools"
   ]
  },
  {
   "cell_type": "code",
   "execution_count": null,
   "metadata": {},
   "outputs": [],
   "source": [
    "data_location = r'C:\\Users\\atagu\\Downloads\\data_preprocessed_python\\data_preprocessed_python'"
   ]
  },
  {
   "cell_type": "code",
   "execution_count": null,
   "metadata": {},
   "outputs": [],
   "source": [
    "def setup_for_binary():\n",
    "    for i in range(40):\n",
    "        if labels['valence'][i] >= 5:\n",
    "            labels['valence'][i] = 1\n",
    "        else:\n",
    "            labels['valence'][i] = 0\n",
    "        if labels['arousal'][i] >= 5:\n",
    "            labels['arousal'][i] = 1\n",
    "        else:\n",
    "            labels['arousal'][i] = 0"
   ]
  },
  {
   "cell_type": "code",
   "execution_count": null,
   "metadata": {},
   "outputs": [],
   "source": [
    "def prepare_reading_list(sample_no,channel_no,count):\n",
    "    reading_list = np.array_split(dataset['data'][sample_no][channel_no],count)\n",
    "    return reading_list"
   ]
  },
  {
   "cell_type": "code",
   "execution_count": null,
   "metadata": {},
   "outputs": [],
   "source": [
    "def get_features_from_reading(data):\n",
    "    #indivual data for batches\n",
    "    mean = np.mean(data)\n",
    "    median = np.median(data)\n",
    "    max_val = max(data)\n",
    "    min_val = min(data)\n",
    "    std = np.std(data)\n",
    "    variance = np.var(data)\n",
    "    range_val = max_val - min_val\n",
    "    skew_val = skew(data)\n",
    "    kurt_val = kurtosis(data)\n",
    "      \n",
    "    \n",
    "    return_list = []\n",
    "    return_list.extend([mean,median,max_val,min_val,std,variance,range_val,skew_val,kurt_val])\n",
    "    return return_list"
   ]
  },
  {
   "cell_type": "code",
   "execution_count": null,
   "metadata": {},
   "outputs": [],
   "source": [
    "def get_features_from_channel(sample_no,channel_no):\n",
    "    #general data from all 8k\n",
    "    gen_mean = np.mean(dataset['data'][sample_no][channel_no])\n",
    "    gen_med = np.median(dataset['data'][sample_no][channel_no])\n",
    "    gen_max_val = max(dataset['data'][sample_no][channel_no])\n",
    "    gen_min_val = min(dataset['data'][sample_no][channel_no])\n",
    "    gen_std = np.std(dataset['data'][sample_no][channel_no])\n",
    "    gen_variance = np.var(dataset['data'][sample_no][channel_no])\n",
    "    gen_range_val = gen_max_val - gen_min_val\n",
    "    gen_skew_val = skew(dataset['data'][sample_no][channel_no])\n",
    "    gen_kurt_val = kurtosis(dataset['data'][sample_no][channel_no])\n",
    "    \n",
    "    return_list = []\n",
    "    return_list.extend([gen_mean,gen_med,gen_max_val,gen_min_val,gen_std,gen_variance,gen_range_val,gen_skew_val,gen_kurt_val])\n",
    "    return return_list"
   ]
  },
  {
   "cell_type": "code",
   "execution_count": null,
   "metadata": {},
   "outputs": [],
   "source": [
    "def prepare_data(dataset):\n",
    "    new_channel_data_list = []\n",
    "    for i in range(40):\n",
    "        for k in range(40):\n",
    "            reading_list = prepare_reading_list(i,k,10)\n",
    "            temp_list = []\n",
    "            for j in range(10):\n",
    "                temp_list.extend(get_features_from_reading(reading_list[j]))\n",
    "            temp_list.extend(get_features_from_channel(i,k))\n",
    "            new_channel_data_list.append(temp_list)\n",
    "    dataset = np.resize(dataset,(40,40,99))\n",
    "    num = 0\n",
    "    for i in range(40):\n",
    "        for k in range(40):\n",
    "            dataset[i][k] = np.asarray(new_channel_data_list[num])\n",
    "            num = num+1\n",
    "    return dataset"
   ]
  },
  {
   "cell_type": "code",
   "execution_count": null,
   "metadata": {},
   "outputs": [],
   "source": [
    "data_list = []\n",
    "label_list = []\n",
    "\n",
    "for i in range(1,32):\n",
    "    if i < 10:\n",
    "        with open(data_location + '\\s0'+ str(i) +'.dat', 'rb') as f: \n",
    "            dataset = pickle.load(f, encoding='latin1')\n",
    "        labels = pd.DataFrame({'valence':dataset['labels'][:,0],'arousal':dataset['labels'][:,1],'dominance':dataset['labels'][:,2],'liking':dataset['labels'][:,3] })\n",
    "        setup_for_binary()\n",
    "        labels_enc = pd.get_dummies(labels['valence'])\n",
    "        label_list.append(labels_enc)\n",
    "        data_list.append(prepare_data(dataset['data']))\n",
    "        gc.collect()\n",
    "    else:\n",
    "        with open(data_location + '\\s'+ str(i)+ '.dat', 'rb') as f: \n",
    "            dataset = pickle.load(f, encoding='latin1')\n",
    "        labels = pd.DataFrame({'valence':dataset['labels'][:,0],'arousal':dataset['labels'][:,1],'dominance':dataset['labels'][:,2],'liking':dataset['labels'][:,3] })\n",
    "        setup_for_binary()\n",
    "        labels_enc = pd.get_dummies(labels['valence'])\n",
    "        label_list.append(labels_enc)\n",
    "        data_list.append(prepare_data(dataset['data']))\n",
    "        gc.collect()"
   ]
  },
  {
   "cell_type": "code",
   "execution_count": null,
   "metadata": {},
   "outputs": [],
   "source": [
    "data_list = np.concatenate(data_list)\n",
    "label_list = np.concatenate(label_list)"
   ]
  },
  {
   "cell_type": "code",
   "execution_count": null,
   "metadata": {},
   "outputs": [],
   "source": [
    "model = Sequential()\n",
    "model.add(Dense(5000,input_shape=(40,99)))\n",
    "model.add(Dropout(0.35))\n",
    "model.add(Activation('relu'))\n",
    "model.add(BatchNormalization())\n",
    "model.add(Dense(500))\n",
    "model.add(Dropout(0.5))\n",
    "model.add(Activation('relu'))\n",
    "model.add(BatchNormalization())\n",
    "model.add(Dense(1000))\n",
    "model.add(Dropout(0.5))\n",
    "model.add(Activation('relu'))\n",
    "model.add(Flatten())\n",
    "model.add(BatchNormalization())\n",
    "model.add(Dense(2))\n",
    "model.add(Activation('softmax'))\n",
    "\n",
    "\n",
    "\n",
    "rmsprop = keras.optimizers.RMSprop(lr=0.00001, rho=0.9, epsilon=None, decay=0.0)\n",
    "sgd = keras.optimizers.SGD(lr=0.1, momentum=0.9, decay=0.0, nesterov=False)\n",
    "adagrad = keras.optimizers.Adagrad(lr=0.01, epsilon=None, decay=0.0)\n",
    "adam = keras.optimizers.Adam(lr=0.01, beta_1=0.9, beta_2=0.999, epsilon=None, decay=0.0, amsgrad=False)\n",
    "\n",
    "model.compile(optimizer = rmsprop, loss = 'categorical_crossentropy', metrics = ['acc'])\n",
    "model.fit(data_list,label_list,epochs = 10, batch_size =310, validation_split=0.33, shuffle=True)"
   ]
  },
  {
   "cell_type": "code",
   "execution_count": null,
   "metadata": {},
   "outputs": [],
   "source": []
  },
  {
   "cell_type": "code",
   "execution_count": null,
   "metadata": {},
   "outputs": [],
   "source": []
  }
 ],
 "metadata": {
  "kernelspec": {
   "display_name": "Python 3",
   "language": "python",
   "name": "python3"
  },
  "language_info": {
   "codemirror_mode": {
    "name": "ipython",
    "version": 3
   },
   "file_extension": ".py",
   "mimetype": "text/x-python",
   "name": "python",
   "nbconvert_exporter": "python",
   "pygments_lexer": "ipython3",
   "version": "3.7.1"
  }
 },
 "nbformat": 4,
 "nbformat_minor": 1
}
